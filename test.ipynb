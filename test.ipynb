{
 "cells": [
  {
   "cell_type": "code",
   "execution_count": 8,
   "outputs": [],
   "source": [
    "from bs4 import BeautifulSoup\n",
    "from selenium.webdriver import Keys\n",
    "from selenium.webdriver.common.action_chains import ActionChains\n",
    "from webdriver_manager.chrome import ChromeDriverManager\n",
    "from selenium import webdriver\n",
    "from selenium.webdriver.common.by import By\n",
    "import time\n",
    "import requests\n",
    "import pandas as pd\n",
    "from lxml import html\n",
    "\n",
    "from access import race_scraping, get_html\n",
    "from shutuba_table_arrange import shutuba_table_arrange"
   ],
   "metadata": {
    "collapsed": false,
    "pycharm": {
     "name": "#%%\n"
    }
   }
  },
  {
   "cell_type": "code",
   "execution_count": 8,
   "outputs": [],
   "source": [],
   "metadata": {
    "collapsed": false,
    "pycharm": {
     "name": "#%%\n"
    }
   }
  },
  {
   "cell_type": "code",
   "execution_count": 9,
   "outputs": [],
   "source": [
    "def race_scraping(main_driver,url):\n",
    "    main_driver.get(url)\n",
    "    time.sleep(2)\n",
    "    return main_driver\n",
    "\n",
    "\n",
    "def get_html(main_driver):\n",
    "    # htmlを取得する\n",
    "    html = main_driver.page_source\n",
    "    # htmlから要素を抽出する\n",
    "    soup = BeautifulSoup(html, 'html.parser')\n",
    "\n",
    "    #soupからpandasでデータフレームを作成する\n",
    "    df = pd.read_html(str(soup))[0]\n",
    "    df = df.T.reset_index(level=0, drop=True).T\n",
    "    return df\n"
   ],
   "metadata": {
    "collapsed": false,
    "pycharm": {
     "name": "#%%\n"
    }
   }
  },
  {
   "cell_type": "code",
   "execution_count": 10,
   "outputs": [],
   "source": [
    "def shutuba_table_arrange(url):\n",
    "    # htmlからpandasで表を作成する\n",
    "    df = pd.read_html(url)[0]\n",
    "    print(df)"
   ],
   "metadata": {
    "collapsed": false,
    "pycharm": {
     "name": "#%%\n"
    }
   }
  },
  {
   "cell_type": "code",
   "execution_count": 11,
   "outputs": [
    {
     "name": "stdout",
     "output_type": "stream",
     "text": [
      "\n"
     ]
    },
    {
     "name": "stderr",
     "output_type": "stream",
     "text": [
      "[WDM] - ====== WebDriver manager ======\n"
     ]
    },
    {
     "name": "stdout",
     "output_type": "stream",
     "text": [
      "2022-08-21 10:45:01,289 INFO ====== WebDriver manager ======\n"
     ]
    },
    {
     "name": "stderr",
     "output_type": "stream",
     "text": [
      "[WDM] - Current google-chrome version is 104.0.5112\n"
     ]
    },
    {
     "name": "stdout",
     "output_type": "stream",
     "text": [
      "2022-08-21 10:45:01,335 INFO Current google-chrome version is 104.0.5112\n"
     ]
    },
    {
     "name": "stderr",
     "output_type": "stream",
     "text": [
      "[WDM] - Get LATEST chromedriver version for 104.0.5112 google-chrome\n"
     ]
    },
    {
     "name": "stdout",
     "output_type": "stream",
     "text": [
      "2022-08-21 10:45:01,337 INFO Get LATEST chromedriver version for 104.0.5112 google-chrome\n"
     ]
    },
    {
     "name": "stderr",
     "output_type": "stream",
     "text": [
      "[WDM] - Driver [/Users/iwairikuto/.wdm/drivers/chromedriver/mac64_m1/104.0.5112.79/chromedriver] found in cache\n"
     ]
    },
    {
     "name": "stdout",
     "output_type": "stream",
     "text": [
      "2022-08-21 10:45:01,431 INFO Driver [/Users/iwairikuto/.wdm/drivers/chromedriver/mac64_m1/104.0.5112.79/chromedriver] found in cache\n"
     ]
    },
    {
     "name": "stderr",
     "output_type": "stream",
     "text": [
      "/var/folders/s9/y9x5r9810s73xn31p31jt8780000gn/T/ipykernel_58653/1696149857.py:1: DeprecationWarning: executable_path has been deprecated, please pass in a Service object\n",
      "  webdriver = webdriver.Chrome(ChromeDriverManager().install())\n"
     ]
    },
    {
     "name": "stdout",
     "output_type": "stream",
     "text": [
      "スクリプトを実行します。\n",
      "    枠  馬番   印         馬名  性齢    斤量     騎手     厩舎 馬体重(増減) Unnamed: 9_level_0  \\\n",
      "    枠  馬番   印         馬名  性齢    斤量     騎手     厩舎 馬体重(増減) Unnamed: 9_level_1   \n",
      "0   1   1 NaN       マカヒキ  牡9  57.0     武豊   栗東友道     NaN              ---.-   \n",
      "1   1   2 NaN     アイスバブル  牡7  57.0     水口   栗東池江     NaN              ---.-   \n",
      "2   2   3 NaN     パンサラッサ  牡5  57.0    吉田豊   栗東矢作     NaN              ---.-   \n",
      "3   2   4 NaN    ジャックドール  牡4  57.0    藤岡佑   栗東藤岡     NaN              ---.-   \n",
      "4   3   5 NaN   サトノクロニクル  牡8  57.0     斎藤   栗東池江     NaN              ---.-   \n",
      "5   3   6 NaN  グローリーヴェイズ  牡7  57.0   ルメール   美浦尾関     NaN              ---.-   \n",
      "6   4   7 NaN      ハヤヤッコ  牡6  57.0     池添   美浦国枝     NaN              ---.-   \n",
      "7   4   8 NaN    フィオリキアリ  牝5  55.0    鮫島駿  栗東清水久     NaN              ---.-   \n",
      "8   5   9 NaN    ウインマリリン  牝5  55.0     松岡   美浦手塚     NaN              ---.-   \n",
      "9   5  10 NaN        ソダシ  牝4  55.0    吉田隼   栗東須貝     NaN              ---.-   \n",
      "10  6  11 NaN  ユニコーンライオン  牡6  57.0     坂井   栗東矢作     NaN              ---.-   \n",
      "11  6  12 NaN        アラタ  牡5  57.0    横山武  美浦和田勇     NaN              ---.-   \n",
      "12  7  13 NaN     レッドガラン  牡7  57.0    岩田康  栗東安田隆     NaN              ---.-   \n",
      "13  7  14 NaN   ユーバーレーベン  牝4  55.0  Ｍデムーロ   美浦手塚     NaN              ---.-   \n",
      "14  8  15 NaN   ケイデンスコール  牡6  57.0    古川吉  栗東安田隆     NaN              ---.-   \n",
      "15  8  16 NaN   アンティシペイト  牡5  57.0    横山和   美浦国枝     NaN              ---.-   \n",
      "\n",
      "    人気 お気に入り馬      \n",
      "    人気     登録  メモ  \n",
      "0   **    NaN NaN  \n",
      "1   **    NaN NaN  \n",
      "2   **    NaN NaN  \n",
      "3   **    NaN NaN  \n",
      "4   **    NaN NaN  \n",
      "5   **    NaN NaN  \n",
      "6   **    NaN NaN  \n",
      "7   **    NaN NaN  \n",
      "8   **    NaN NaN  \n",
      "9   **    NaN NaN  \n",
      "10  **    NaN NaN  \n",
      "11  **    NaN NaN  \n",
      "12  **    NaN NaN  \n",
      "13  **    NaN NaN  \n",
      "14  **    NaN NaN  \n",
      "15  **    NaN NaN  \n",
      "スクリプトを終了します。\n"
     ]
    }
   ],
   "source": [
    "webdriver = webdriver.Chrome(ChromeDriverManager().install())\n",
    "url = \"https://race.netkeiba.com/race/shutuba.html?race_id=202201020411\"\n",
    "print('スクリプトを実行します。')\n",
    "webdriver = race_scraping(webdriver, url)\n",
    "html = get_html(webdriver)\n",
    "shutuba_table_arrange(url)\n",
    "print('スクリプトを終了します。')\n",
    "webdriver.quit()"
   ],
   "metadata": {
    "collapsed": false,
    "pycharm": {
     "name": "#%%\n"
    }
   }
  },
  {
   "cell_type": "code",
   "execution_count": 10,
   "outputs": [
    {
     "data": {
      "text/plain": "bs4.BeautifulSoup"
     },
     "execution_count": 10,
     "metadata": {},
     "output_type": "execute_result"
    }
   ],
   "source": [
    "type(html)"
   ],
   "metadata": {
    "collapsed": false,
    "pycharm": {
     "name": "#%%\n"
    }
   }
  },
  {
   "cell_type": "code",
   "execution_count": null,
   "outputs": [],
   "source": [],
   "metadata": {
    "collapsed": false,
    "pycharm": {
     "name": "#%%\n"
    }
   }
  }
 ],
 "metadata": {
  "kernelspec": {
   "display_name": "Python 3",
   "language": "python",
   "name": "python3"
  },
  "language_info": {
   "codemirror_mode": {
    "name": "ipython",
    "version": 2
   },
   "file_extension": ".py",
   "mimetype": "text/x-python",
   "name": "python",
   "nbconvert_exporter": "python",
   "pygments_lexer": "ipython2",
   "version": "2.7.6"
  }
 },
 "nbformat": 4,
 "nbformat_minor": 0
}